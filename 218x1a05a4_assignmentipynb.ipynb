{
  "nbformat": 4,
  "nbformat_minor": 0,
  "metadata": {
    "colab": {
      "provenance": [],
      "toc_visible": true
    },
    "kernelspec": {
      "name": "python3",
      "display_name": "Python 3"
    },
    "language_info": {
      "name": "python"
    }
  },
  "cells": [
    {
      "cell_type": "code",
      "source": [
        "import os\n",
        "\n",
        "# List files in the /content/ directory\n",
        "print(os.listdir('/content/'))\n"
      ],
      "metadata": {
        "colab": {
          "base_uri": "https://localhost:8080/"
        },
        "id": "-eoSTBI3BVko",
        "outputId": "bf6c1413-effd-455f-bdda-4e9b0a9e6d44"
      },
      "execution_count": null,
      "outputs": [
        {
          "output_type": "stream",
          "name": "stdout",
          "text": [
            "['.config', 'CarPrice_Assignment.csv', 'Data Dictionary - carprices.xlsx', 'sample_data']\n"
          ]
        }
      ]
    },
    {
      "cell_type": "code",
      "source": [
        "import pandas as pd\n",
        "\n",
        "# Load the CSV file\n",
        "df = pd.read_csv('/content/CarPrice_Assignment.csv')\n",
        "\n",
        "# Load the Excel file (Data Dictionary)\n",
        "data_dict = pd.read_excel('/content/Data Dictionary - carprices.xlsx')\n",
        "\n",
        "# Display the first few rows of each file to verify\n",
        "print(df.head())\n",
        "print(data_dict.head())\n"
      ],
      "metadata": {
        "colab": {
          "base_uri": "https://localhost:8080/"
        },
        "id": "Cq48btFVBzke",
        "outputId": "8da35198-8390-431a-e024-7813099ca122"
      },
      "execution_count": null,
      "outputs": [
        {
          "output_type": "stream",
          "name": "stdout",
          "text": [
            "   car_ID  symboling                   CarName fueltype aspiration doornumber  \\\n",
            "0       1          3        alfa-romero giulia      gas        std        two   \n",
            "1       2          3       alfa-romero stelvio      gas        std        two   \n",
            "2       3          1  alfa-romero Quadrifoglio      gas        std        two   \n",
            "3       4          2               audi 100 ls      gas        std       four   \n",
            "4       5          2                audi 100ls      gas        std       four   \n",
            "\n",
            "       carbody drivewheel enginelocation  wheelbase  ...  enginesize  \\\n",
            "0  convertible        rwd          front       88.6  ...         130   \n",
            "1  convertible        rwd          front       88.6  ...         130   \n",
            "2    hatchback        rwd          front       94.5  ...         152   \n",
            "3        sedan        fwd          front       99.8  ...         109   \n",
            "4        sedan        4wd          front       99.4  ...         136   \n",
            "\n",
            "   fuelsystem  boreratio  stroke compressionratio horsepower  peakrpm citympg  \\\n",
            "0        mpfi       3.47    2.68              9.0        111     5000      21   \n",
            "1        mpfi       3.47    2.68              9.0        111     5000      21   \n",
            "2        mpfi       2.68    3.47              9.0        154     5000      19   \n",
            "3        mpfi       3.19    3.40             10.0        102     5500      24   \n",
            "4        mpfi       3.19    3.40              8.0        115     5500      18   \n",
            "\n",
            "   highwaympg    price  \n",
            "0          27  13495.0  \n",
            "1          27  16500.0  \n",
            "2          26  16500.0  \n",
            "3          30  13950.0  \n",
            "4          22  17450.0  \n",
            "\n",
            "[5 rows x 26 columns]\n",
            "   Unnamed: 0  Unnamed: 1  Unnamed: 2  Unnamed: 3  Unnamed: 4  Unnamed: 5  \\\n",
            "0         NaN         NaN         NaN         NaN         NaN         NaN   \n",
            "1         NaN         NaN         NaN         NaN         NaN         NaN   \n",
            "2         NaN         NaN         NaN         NaN         NaN         NaN   \n",
            "3         NaN         NaN         NaN         NaN         NaN         NaN   \n",
            "4         NaN         NaN         NaN         NaN         NaN         NaN   \n",
            "\n",
            "       Unnamed: 6  Unnamed: 7  Unnamed: 8  Unnamed: 9  Unnamed: 10  \\\n",
            "0             NaN         NaN         NaN         NaN          NaN   \n",
            "1  DATA DICTONARY         NaN         NaN         NaN          NaN   \n",
            "2             NaN         NaN         NaN         NaN          NaN   \n",
            "3               1      Car_ID         NaN         NaN          NaN   \n",
            "4               2  Symboling          NaN         NaN          NaN   \n",
            "\n",
            "                                         Unnamed: 11  Unnamed: 12 Unnamed: 13  \n",
            "0                                                NaN          NaN         NaN  \n",
            "1                                                NaN          NaN         NaN  \n",
            "2                                                NaN          NaN         NaN  \n",
            "3           Unique id of each observation (Interger)          NaN         NaN  \n",
            "4  Its assigned insurance risk rating, A value of...          NaN         NaN  \n"
          ]
        }
      ]
    },
    {
      "cell_type": "code",
      "source": [
        "# Dataset size\n",
        "print(\"Dataset Size:\", df.shape)\n",
        "\n",
        "# Dataset information\n",
        "df.info()\n"
      ],
      "metadata": {
        "colab": {
          "base_uri": "https://localhost:8080/"
        },
        "id": "4p26yFb3B6EH",
        "outputId": "98833995-508f-4393-b67f-884c8cc1c6e1"
      },
      "execution_count": null,
      "outputs": [
        {
          "output_type": "stream",
          "name": "stdout",
          "text": [
            "Dataset Size: (205, 26)\n",
            "<class 'pandas.core.frame.DataFrame'>\n",
            "RangeIndex: 205 entries, 0 to 204\n",
            "Data columns (total 26 columns):\n",
            " #   Column            Non-Null Count  Dtype  \n",
            "---  ------            --------------  -----  \n",
            " 0   car_ID            205 non-null    int64  \n",
            " 1   symboling         205 non-null    int64  \n",
            " 2   CarName           205 non-null    object \n",
            " 3   fueltype          205 non-null    object \n",
            " 4   aspiration        205 non-null    object \n",
            " 5   doornumber        205 non-null    object \n",
            " 6   carbody           205 non-null    object \n",
            " 7   drivewheel        205 non-null    object \n",
            " 8   enginelocation    205 non-null    object \n",
            " 9   wheelbase         205 non-null    float64\n",
            " 10  carlength         205 non-null    float64\n",
            " 11  carwidth          205 non-null    float64\n",
            " 12  carheight         205 non-null    float64\n",
            " 13  curbweight        205 non-null    int64  \n",
            " 14  enginetype        205 non-null    object \n",
            " 15  cylindernumber    205 non-null    object \n",
            " 16  enginesize        205 non-null    int64  \n",
            " 17  fuelsystem        205 non-null    object \n",
            " 18  boreratio         205 non-null    float64\n",
            " 19  stroke            205 non-null    float64\n",
            " 20  compressionratio  205 non-null    float64\n",
            " 21  horsepower        205 non-null    int64  \n",
            " 22  peakrpm           205 non-null    int64  \n",
            " 23  citympg           205 non-null    int64  \n",
            " 24  highwaympg        205 non-null    int64  \n",
            " 25  price             205 non-null    float64\n",
            "dtypes: float64(8), int64(8), object(10)\n",
            "memory usage: 41.8+ KB\n"
          ]
        }
      ]
    },
    {
      "cell_type": "code",
      "source": [
        "import pandas as pd\n",
        "\n",
        "df = pd.read_csv('/content/CarPrice_Assignment.csv')\n",
        "print(df.isnull().sum())\n"
      ],
      "metadata": {
        "colab": {
          "base_uri": "https://localhost:8080/"
        },
        "id": "zqHoKhuRCsfA",
        "outputId": "0ac90a39-ae32-4e42-c47e-28d73c209ff4"
      },
      "execution_count": null,
      "outputs": [
        {
          "output_type": "stream",
          "name": "stdout",
          "text": [
            "car_ID              0\n",
            "symboling           0\n",
            "CarName             0\n",
            "fueltype            0\n",
            "aspiration          0\n",
            "doornumber          0\n",
            "carbody             0\n",
            "drivewheel          0\n",
            "enginelocation      0\n",
            "wheelbase           0\n",
            "carlength           0\n",
            "carwidth            0\n",
            "carheight           0\n",
            "curbweight          0\n",
            "enginetype          0\n",
            "cylindernumber      0\n",
            "enginesize          0\n",
            "fuelsystem          0\n",
            "boreratio           0\n",
            "stroke              0\n",
            "compressionratio    0\n",
            "horsepower          0\n",
            "peakrpm             0\n",
            "citympg             0\n",
            "highwaympg          0\n",
            "price               0\n",
            "dtype: int64\n"
          ]
        }
      ]
    },
    {
      "cell_type": "code",
      "source": [
        "numeric_cols = df.select_dtypes(include=['number']).columns\n",
        "categorical_cols = df.select_dtypes(include=['object']).columns\n",
        "\n",
        "print(\"Numeric columns:\", numeric_cols)\n",
        "print(\"Categorical columns:\", categorical_cols)\n"
      ],
      "metadata": {
        "colab": {
          "base_uri": "https://localhost:8080/"
        },
        "id": "Bl3GuED1Cy_a",
        "outputId": "9dcced39-fc1d-49ac-82d7-180d1d0e3525"
      },
      "execution_count": null,
      "outputs": [
        {
          "output_type": "stream",
          "name": "stdout",
          "text": [
            "Numeric columns: Index(['car_ID', 'symboling', 'wheelbase', 'carlength', 'carwidth',\n",
            "       'carheight', 'curbweight', 'enginesize', 'boreratio', 'stroke',\n",
            "       'compressionratio', 'horsepower', 'peakrpm', 'citympg', 'highwaympg',\n",
            "       'price'],\n",
            "      dtype='object')\n",
            "Categorical columns: Index(['CarName', 'fueltype', 'aspiration', 'doornumber', 'carbody',\n",
            "       'drivewheel', 'enginelocation', 'enginetype', 'cylindernumber',\n",
            "       'fuelsystem'],\n",
            "      dtype='object')\n"
          ]
        }
      ]
    },
    {
      "cell_type": "code",
      "source": [
        "df[numeric_cols] = df[numeric_cols].fillna(df[numeric_cols].median())\n",
        "print(df.isnull().sum())\n"
      ],
      "metadata": {
        "colab": {
          "base_uri": "https://localhost:8080/"
        },
        "id": "DxTGq90mC71w",
        "outputId": "17c11d44-85a4-4e51-ecc4-62cd6d444d79"
      },
      "execution_count": null,
      "outputs": [
        {
          "output_type": "stream",
          "name": "stdout",
          "text": [
            "car_ID              0\n",
            "symboling           0\n",
            "CarName             0\n",
            "fueltype            0\n",
            "aspiration          0\n",
            "doornumber          0\n",
            "carbody             0\n",
            "drivewheel          0\n",
            "enginelocation      0\n",
            "wheelbase           0\n",
            "carlength           0\n",
            "carwidth            0\n",
            "carheight           0\n",
            "curbweight          0\n",
            "enginetype          0\n",
            "cylindernumber      0\n",
            "enginesize          0\n",
            "fuelsystem          0\n",
            "boreratio           0\n",
            "stroke              0\n",
            "compressionratio    0\n",
            "horsepower          0\n",
            "peakrpm             0\n",
            "citympg             0\n",
            "highwaympg          0\n",
            "price               0\n",
            "dtype: int64\n"
          ]
        }
      ]
    },
    {
      "cell_type": "code",
      "source": [
        "for col in categorical_cols:\n",
        "    df[col].fillna(df[col].mode()[0], inplace=True)\n",
        "print(df.isnull().sum())\n"
      ],
      "metadata": {
        "colab": {
          "base_uri": "https://localhost:8080/"
        },
        "id": "QDaYcntNC_0t",
        "outputId": "9e3b0625-40cd-4063-9a3c-7ce02418f151"
      },
      "execution_count": null,
      "outputs": [
        {
          "output_type": "stream",
          "name": "stdout",
          "text": [
            "car_ID              0\n",
            "symboling           0\n",
            "CarName             0\n",
            "fueltype            0\n",
            "aspiration          0\n",
            "doornumber          0\n",
            "carbody             0\n",
            "drivewheel          0\n",
            "enginelocation      0\n",
            "wheelbase           0\n",
            "carlength           0\n",
            "carwidth            0\n",
            "carheight           0\n",
            "curbweight          0\n",
            "enginetype          0\n",
            "cylindernumber      0\n",
            "enginesize          0\n",
            "fuelsystem          0\n",
            "boreratio           0\n",
            "stroke              0\n",
            "compressionratio    0\n",
            "horsepower          0\n",
            "peakrpm             0\n",
            "citympg             0\n",
            "highwaympg          0\n",
            "price               0\n",
            "dtype: int64\n"
          ]
        }
      ]
    },
    {
      "cell_type": "code",
      "source": [
        "print(df.describe(include='all'))\n"
      ],
      "metadata": {
        "colab": {
          "base_uri": "https://localhost:8080/"
        },
        "id": "HW0j8dKODPZU",
        "outputId": "5f60d843-ee4e-499b-b225-42e7685a3cbd"
      },
      "execution_count": null,
      "outputs": [
        {
          "output_type": "stream",
          "name": "stdout",
          "text": [
            "            car_ID   symboling        CarName fueltype aspiration doornumber  \\\n",
            "count   205.000000  205.000000            205      205        205        205   \n",
            "unique         NaN         NaN            147        2          2          2   \n",
            "top            NaN         NaN  toyota corona      gas        std       four   \n",
            "freq           NaN         NaN              6      185        168        115   \n",
            "mean    103.000000    0.834146            NaN      NaN        NaN        NaN   \n",
            "std      59.322565    1.245307            NaN      NaN        NaN        NaN   \n",
            "min       1.000000   -2.000000            NaN      NaN        NaN        NaN   \n",
            "25%      52.000000    0.000000            NaN      NaN        NaN        NaN   \n",
            "50%     103.000000    1.000000            NaN      NaN        NaN        NaN   \n",
            "75%     154.000000    2.000000            NaN      NaN        NaN        NaN   \n",
            "max     205.000000    3.000000            NaN      NaN        NaN        NaN   \n",
            "\n",
            "       carbody drivewheel enginelocation   wheelbase  ...  enginesize  \\\n",
            "count      205        205            205  205.000000  ...  205.000000   \n",
            "unique       5          3              2         NaN  ...         NaN   \n",
            "top      sedan        fwd          front         NaN  ...         NaN   \n",
            "freq        96        120            202         NaN  ...         NaN   \n",
            "mean       NaN        NaN            NaN   98.756585  ...  126.907317   \n",
            "std        NaN        NaN            NaN    6.021776  ...   41.642693   \n",
            "min        NaN        NaN            NaN   86.600000  ...   61.000000   \n",
            "25%        NaN        NaN            NaN   94.500000  ...   97.000000   \n",
            "50%        NaN        NaN            NaN   97.000000  ...  120.000000   \n",
            "75%        NaN        NaN            NaN  102.400000  ...  141.000000   \n",
            "max        NaN        NaN            NaN  120.900000  ...  326.000000   \n",
            "\n",
            "        fuelsystem   boreratio      stroke compressionratio  horsepower  \\\n",
            "count          205  205.000000  205.000000       205.000000  205.000000   \n",
            "unique           8         NaN         NaN              NaN         NaN   \n",
            "top           mpfi         NaN         NaN              NaN         NaN   \n",
            "freq            94         NaN         NaN              NaN         NaN   \n",
            "mean           NaN    3.329756    3.255415        10.142537  104.117073   \n",
            "std            NaN    0.270844    0.313597         3.972040   39.544167   \n",
            "min            NaN    2.540000    2.070000         7.000000   48.000000   \n",
            "25%            NaN    3.150000    3.110000         8.600000   70.000000   \n",
            "50%            NaN    3.310000    3.290000         9.000000   95.000000   \n",
            "75%            NaN    3.580000    3.410000         9.400000  116.000000   \n",
            "max            NaN    3.940000    4.170000        23.000000  288.000000   \n",
            "\n",
            "            peakrpm     citympg  highwaympg         price  \n",
            "count    205.000000  205.000000  205.000000    205.000000  \n",
            "unique          NaN         NaN         NaN           NaN  \n",
            "top             NaN         NaN         NaN           NaN  \n",
            "freq            NaN         NaN         NaN           NaN  \n",
            "mean    5125.121951   25.219512   30.751220  13276.710571  \n",
            "std      476.985643    6.542142    6.886443   7988.852332  \n",
            "min     4150.000000   13.000000   16.000000   5118.000000  \n",
            "25%     4800.000000   19.000000   25.000000   7788.000000  \n",
            "50%     5200.000000   24.000000   30.000000  10295.000000  \n",
            "75%     5500.000000   30.000000   34.000000  16503.000000  \n",
            "max     6600.000000   49.000000   54.000000  45400.000000  \n",
            "\n",
            "[11 rows x 26 columns]\n"
          ]
        }
      ]
    },
    {
      "cell_type": "code",
      "source": [
        "Q1 = df[numeric_cols].quantile(0.25)\n",
        "Q3 = df[numeric_cols].quantile(0.75)\n",
        "IQR = Q3 - Q1\n",
        "\n",
        "outlier_condition = (df[numeric_cols] < (Q1 - 1.5 * IQR)) | (df[numeric_cols] > (Q3 + 1.5 * IQR))\n",
        "df_no_outliers = df[~outlier_condition.any(axis=1)]\n",
        "\n",
        "print(\"Shape before removing outliers:\", df.shape)\n",
        "print(\"Shape after removing outliers:\", df_no_outliers.shape)\n"
      ],
      "metadata": {
        "colab": {
          "base_uri": "https://localhost:8080/"
        },
        "id": "bAfW_eXrDYor",
        "outputId": "0d3560da-8831-4155-a567-8aa79447595b"
      },
      "execution_count": null,
      "outputs": [
        {
          "output_type": "stream",
          "name": "stdout",
          "text": [
            "Shape before removing outliers: (205, 26)\n",
            "Shape after removing outliers: (139, 26)\n"
          ]
        }
      ]
    },
    {
      "cell_type": "code",
      "source": [
        "import matplotlib.pyplot as plt\n",
        "import seaborn as sns\n",
        "\n",
        "sns.histplot(df['price'])\n",
        "plt.title('Distribution of Car Prices')\n",
        "plt.xlabel('Price')\n",
        "plt.ylabel('Frequency')\n",
        "plt.show()\n"
      ],
      "metadata": {
        "colab": {
          "base_uri": "https://localhost:8080/",
          "height": 472
        },
        "id": "mgdMaFqpDgaF",
        "outputId": "c366f0ae-569b-440c-e2a3-7b4bd1ee49ba"
      },
      "execution_count": null,
      "outputs": [
        {
          "output_type": "display_data",
          "data": {
            "text/plain": [
              "<Figure size 640x480 with 1 Axes>"
            ],
            "image/png": "[encoded data removed]"
          },
          "metadata": {}
        }
      ]
    },
    {
      "cell_type": "code",
      "source": [
        "sns.scatterplot(x='citympg', y='price', data=df)\n",
        "plt.title('Price vs City MPG')\n",
        "plt.xlabel('City MPG')\n",
        "plt.ylabel('Price')\n",
        "plt.show()\n"
      ],
      "metadata": {
        "colab": {
          "base_uri": "https://localhost:8080/",
          "height": 472
        },
        "id": "YJ39PD0wDlm3",
        "outputId": "091ba1b2-5ae6-414d-8f09-da7b859c9260"
      },
      "execution_count": null,
      "outputs": [
        {
          "output_type": "display_data",
          "data": {
            "text/plain": [
              "<Figure size 640x480 with 1 Axes>"
            ],
            "image/png": "[encoded data removed]"
          },
          "metadata": {}
        }
      ]
    },
    {
      "cell_type": "code",
      "source": [
        "sns.pairplot(df[['price', 'citympg', 'curbweight']])\n",
        "plt.show()\n"
      ],
      "metadata": {
        "colab": {
          "base_uri": "https://localhost:8080/",
          "height": 758
        },
        "id": "X1K77X3kDrMg",
        "outputId": "c9a5dd3c-4870-4e1c-bcfd-ebd7a1adeb78"
      },
      "execution_count": null,
      "outputs": [
        {
          "output_type": "display_data",
          "data": {
            "text/plain": [
              "<Figure size 750x750 with 12 Axes>"
            ],
            "image/png": "[encoded data removed]"
          },
          "metadata": {}
        }
      ]
    },
    {
      "cell_type": "code",
      "source": [
        "import pandas as pd\n",
        "\n",
        "# Load the dataset\n",
        "df = pd.read_csv('/content/CarPrice_Assignment.csv')\n",
        "\n",
        "# Drop the target column from the features and extract the target variable\n",
        "X = df.drop('price', axis=1)\n",
        "y = df['price']\n",
        "\n",
        "# Convert categorical columns to dummy/indicator variables\n",
        "X = pd.get_dummies(X, drop_first=True)\n",
        "\n",
        "# Print the shapes of X and y to verify dimensions\n",
        "print(\"Shape of X:\", X.shape)\n",
        "print(\"Shape of y:\", y.shape)\n",
        "\n",
        "# Display the first few rows of the feature matrix and target variable\n",
        "print(\"\\nFirst few rows of X:\")\n",
        "print(X.head())\n",
        "\n",
        "print(\"\\nFirst few rows of y:\")\n",
        "print(y.head())\n",
        "\n",
        "# Print the column names of X to see the dummy variables\n",
        "print(\"\\nColumns in X:\")\n",
        "print(X.columns)\n"
      ],
      "metadata": {
        "colab": {
          "base_uri": "https://localhost:8080/"
        },
        "id": "GGMq6sKDEaQh",
        "outputId": "6543ee5e-f02b-4b3d-ba22-04d9f6800862"
      },
      "execution_count": null,
      "outputs": [
        {
          "output_type": "stream",
          "name": "stdout",
          "text": [
            "Shape of X: (205, 190)\n",
            "Shape of y: (205,)\n",
            "\n",
            "First few rows of X:\n",
            "   car_ID  symboling  wheelbase  carlength  carwidth  carheight  curbweight  \\\n",
            "0       1          3       88.6      168.8      64.1       48.8        2548   \n",
            "1       2          3       88.6      168.8      64.1       48.8        2548   \n",
            "2       3          1       94.5      171.2      65.5       52.4        2823   \n",
            "3       4          2       99.8      176.6      66.2       54.3        2337   \n",
            "4       5          2       99.4      176.6      66.4       54.3        2824   \n",
            "\n",
            "   enginesize  boreratio  stroke  ...  cylindernumber_three  \\\n",
            "0         130       3.47    2.68  ...                 False   \n",
            "1         130       3.47    2.68  ...                 False   \n",
            "2         152       2.68    3.47  ...                 False   \n",
            "3         109       3.19    3.40  ...                 False   \n",
            "4         136       3.19    3.40  ...                 False   \n",
            "\n",
            "   cylindernumber_twelve  cylindernumber_two  fuelsystem_2bbl  \\\n",
            "0                  False               False            False   \n",
            "1                  False               False            False   \n",
            "2                  False               False            False   \n",
            "3                  False               False            False   \n",
            "4                  False               False            False   \n",
            "\n",
            "   fuelsystem_4bbl  fuelsystem_idi  fuelsystem_mfi  fuelsystem_mpfi  \\\n",
            "0            False           False           False             True   \n",
            "1            False           False           False             True   \n",
            "2            False           False           False             True   \n",
            "3            False           False           False             True   \n",
            "4            False           False           False             True   \n",
            "\n",
            "   fuelsystem_spdi  fuelsystem_spfi  \n",
            "0            False            False  \n",
            "1            False            False  \n",
            "2            False            False  \n",
            "3            False            False  \n",
            "4            False            False  \n",
            "\n",
            "[5 rows x 190 columns]\n",
            "\n",
            "First few rows of y:\n",
            "0    13495.0\n",
            "1    16500.0\n",
            "2    16500.0\n",
            "3    13950.0\n",
            "4    17450.0\n",
            "Name: price, dtype: float64\n",
            "\n",
            "Columns in X:\n",
            "Index(['car_ID', 'symboling', 'wheelbase', 'carlength', 'carwidth',\n",
            "       'carheight', 'curbweight', 'enginesize', 'boreratio', 'stroke',\n",
            "       ...\n",
            "       'cylindernumber_three', 'cylindernumber_twelve', 'cylindernumber_two',\n",
            "       'fuelsystem_2bbl', 'fuelsystem_4bbl', 'fuelsystem_idi',\n",
            "       'fuelsystem_mfi', 'fuelsystem_mpfi', 'fuelsystem_spdi',\n",
            "       'fuelsystem_spfi'],\n",
            "      dtype='object', length=190)\n"
          ]
        }
      ]
    },
    {
      "cell_type": "code",
      "source": [
        "from sklearn.preprocessing import StandardScaler\n",
        "\n",
        "scaler = StandardScaler()\n",
        "X_scaled = scaler.fit_transform(X)\n",
        "\n",
        "print(\"First few rows of scaled X:\")\n",
        "print(X_scaled[:5])\n"
      ],
      "metadata": {
        "colab": {
          "base_uri": "https://localhost:8080/"
        },
        "id": "OgWoh3pIFHuk",
        "outputId": "a3262209-f0c4-4a2d-9a12-4ae8bce4c7bb"
      },
      "execution_count": null,
      "outputs": [
        {
          "output_type": "stream",
          "name": "stdout",
          "text": [
            "First few rows of scaled X:\n",
            "[[-1.72362229  1.74347043 -1.6907718  -0.42652147 -0.84478235 -2.0204173\n",
            "  -0.01456628  0.07444893  0.51907138 -1.83937734 -0.28834891  0.17448278\n",
            "  -0.26296022 -0.64655303 -0.54605874 -0.070014   14.28285686 -0.070014\n",
            "  -0.070014   -0.09925833 -0.070014   -0.070014   -0.070014   -0.070014\n",
            "  -0.09925833 -0.070014   -0.09925833 -0.070014   -0.070014   -0.070014\n",
            "  -0.070014   -0.070014   -0.070014   -0.070014   -0.070014   -0.070014\n",
            "  -0.070014   -0.070014   -0.070014   -0.070014   -0.070014   -0.070014\n",
            "  -0.070014   -0.070014   -0.070014   -0.070014   -0.070014   -0.070014\n",
            "  -0.070014   -0.070014   -0.09925833 -0.070014   -0.070014   -0.12186667\n",
            "  -0.070014   -0.070014   -0.070014   -0.09925833 -0.070014   -0.09925833\n",
            "  -0.070014   -0.070014   -0.070014   -0.070014   -0.070014   -0.070014\n",
            "  -0.070014   -0.12186667 -0.09925833 -0.070014   -0.070014   -0.070014\n",
            "  -0.09925833 -0.09925833 -0.09925833 -0.070014   -0.070014   -0.12186667\n",
            "  -0.070014   -0.070014   -0.12186667 -0.070014   -0.12186667 -0.070014\n",
            "  -0.09925833 -0.070014   -0.070014   -0.070014   -0.070014   -0.070014\n",
            "  -0.09925833 -0.070014   -0.070014   -0.070014   -0.070014   -0.09925833\n",
            "  -0.070014   -0.070014   -0.070014   -0.17363972 -0.070014   -0.070014\n",
            "  -0.09925833 -0.070014   -0.070014   -0.070014   -0.09925833 -0.070014\n",
            "  -0.070014   -0.070014   -0.070014   -0.09925833 -0.070014   -0.070014\n",
            "  -0.070014   -0.09925833 -0.09925833 -0.09925833 -0.09925833 -0.070014\n",
            "  -0.070014   -0.14106912 -0.070014   -0.070014   -0.070014   -0.070014\n",
            "  -0.070014   -0.070014   -0.070014   -0.17363972 -0.09925833 -0.070014\n",
            "  -0.09925833 -0.070014   -0.17363972 -0.070014   -0.070014   -0.070014\n",
            "  -0.070014   -0.12186667 -0.09925833 -0.070014   -0.070014   -0.070014\n",
            "  -0.070014   -0.070014   -0.09925833 -0.070014   -0.070014   -0.070014\n",
            "  -0.070014   -0.070014   -0.09925833 -0.09925833 -0.09925833 -0.070014\n",
            "  -0.070014   -0.09925833 -0.070014   -0.070014   -0.070014    0.32879797\n",
            "  -0.46929532  1.13038833 -0.20151709 -0.7200823  -0.93847426 -0.372678\n",
            "  -1.18817705  1.30283093 -0.12186667 -0.070014   -0.24935149 -1.61136316\n",
            "  -0.28097574 -0.26020825 -0.14106912 -0.23811978  0.53787375 -0.36413828\n",
            "  -0.070014   -0.070014   -0.14106912 -0.68907194 -0.12186667 -0.32879797\n",
            "  -0.070014    1.08666971 -0.21428571 -0.070014  ]\n",
            " [-1.70672403  1.74347043 -1.6907718  -0.42652147 -0.84478235 -2.0204173\n",
            "  -0.01456628  0.07444893  0.51907138 -1.83937734 -0.28834891  0.17448278\n",
            "  -0.26296022 -0.64655303 -0.54605874 -0.070014   -0.070014   14.28285686\n",
            "  -0.070014   -0.09925833 -0.070014   -0.070014   -0.070014   -0.070014\n",
            "  -0.09925833 -0.070014   -0.09925833 -0.070014   -0.070014   -0.070014\n",
            "  -0.070014   -0.070014   -0.070014   -0.070014   -0.070014   -0.070014\n",
            "  -0.070014   -0.070014   -0.070014   -0.070014   -0.070014   -0.070014\n",
            "  -0.070014   -0.070014   -0.070014   -0.070014   -0.070014   -0.070014\n",
            "  -0.070014   -0.070014   -0.09925833 -0.070014   -0.070014   -0.12186667\n",
            "  -0.070014   -0.070014   -0.070014   -0.09925833 -0.070014   -0.09925833\n",
            "  -0.070014   -0.070014   -0.070014   -0.070014   -0.070014   -0.070014\n",
            "  -0.070014   -0.12186667 -0.09925833 -0.070014   -0.070014   -0.070014\n",
            "  -0.09925833 -0.09925833 -0.09925833 -0.070014   -0.070014   -0.12186667\n",
            "  -0.070014   -0.070014   -0.12186667 -0.070014   -0.12186667 -0.070014\n",
            "  -0.09925833 -0.070014   -0.070014   -0.070014   -0.070014   -0.070014\n",
            "  -0.09925833 -0.070014   -0.070014   -0.070014   -0.070014   -0.09925833\n",
            "  -0.070014   -0.070014   -0.070014   -0.17363972 -0.070014   -0.070014\n",
            "  -0.09925833 -0.070014   -0.070014   -0.070014   -0.09925833 -0.070014\n",
            "  -0.070014   -0.070014   -0.070014   -0.09925833 -0.070014   -0.070014\n",
            "  -0.070014   -0.09925833 -0.09925833 -0.09925833 -0.09925833 -0.070014\n",
            "  -0.070014   -0.14106912 -0.070014   -0.070014   -0.070014   -0.070014\n",
            "  -0.070014   -0.070014   -0.070014   -0.17363972 -0.09925833 -0.070014\n",
            "  -0.09925833 -0.070014   -0.17363972 -0.070014   -0.070014   -0.070014\n",
            "  -0.070014   -0.12186667 -0.09925833 -0.070014   -0.070014   -0.070014\n",
            "  -0.070014   -0.070014   -0.09925833 -0.070014   -0.070014   -0.070014\n",
            "  -0.070014   -0.070014   -0.09925833 -0.09925833 -0.09925833 -0.070014\n",
            "  -0.070014   -0.09925833 -0.070014   -0.070014   -0.070014    0.32879797\n",
            "  -0.46929532  1.13038833 -0.20151709 -0.7200823  -0.93847426 -0.372678\n",
            "  -1.18817705  1.30283093 -0.12186667 -0.070014   -0.24935149 -1.61136316\n",
            "  -0.28097574 -0.26020825 -0.14106912 -0.23811978  0.53787375 -0.36413828\n",
            "  -0.070014   -0.070014   -0.14106912 -0.68907194 -0.12186667 -0.32879797\n",
            "  -0.070014    1.08666971 -0.21428571 -0.070014  ]\n",
            " [-1.68982577  0.133509   -0.70859588 -0.23151305 -0.19056612 -0.54352748\n",
            "   0.51488192  0.60404617 -2.40488029  0.68594616 -0.28834891  1.26453643\n",
            "  -0.26296022 -0.95301169 -0.69162706 14.28285686 -0.070014   -0.070014\n",
            "  -0.070014   -0.09925833 -0.070014   -0.070014   -0.070014   -0.070014\n",
            "  -0.09925833 -0.070014   -0.09925833 -0.070014   -0.070014   -0.070014\n",
            "  -0.070014   -0.070014   -0.070014   -0.070014   -0.070014   -0.070014\n",
            "  -0.070014   -0.070014   -0.070014   -0.070014   -0.070014   -0.070014\n",
            "  -0.070014   -0.070014   -0.070014   -0.070014   -0.070014   -0.070014\n",
            "  -0.070014   -0.070014   -0.09925833 -0.070014   -0.070014   -0.12186667\n",
            "  -0.070014   -0.070014   -0.070014   -0.09925833 -0.070014   -0.09925833\n",
            "  -0.070014   -0.070014   -0.070014   -0.070014   -0.070014   -0.070014\n",
            "  -0.070014   -0.12186667 -0.09925833 -0.070014   -0.070014   -0.070014\n",
            "  -0.09925833 -0.09925833 -0.09925833 -0.070014   -0.070014   -0.12186667\n",
            "  -0.070014   -0.070014   -0.12186667 -0.070014   -0.12186667 -0.070014\n",
            "  -0.09925833 -0.070014   -0.070014   -0.070014   -0.070014   -0.070014\n",
            "  -0.09925833 -0.070014   -0.070014   -0.070014   -0.070014   -0.09925833\n",
            "  -0.070014   -0.070014   -0.070014   -0.17363972 -0.070014   -0.070014\n",
            "  -0.09925833 -0.070014   -0.070014   -0.070014   -0.09925833 -0.070014\n",
            "  -0.070014   -0.070014   -0.070014   -0.09925833 -0.070014   -0.070014\n",
            "  -0.070014   -0.09925833 -0.09925833 -0.09925833 -0.09925833 -0.070014\n",
            "  -0.070014   -0.14106912 -0.070014   -0.070014   -0.070014   -0.070014\n",
            "  -0.070014   -0.070014   -0.070014   -0.17363972 -0.09925833 -0.070014\n",
            "  -0.09925833 -0.070014   -0.17363972 -0.070014   -0.070014   -0.070014\n",
            "  -0.070014   -0.12186667 -0.09925833 -0.070014   -0.070014   -0.070014\n",
            "  -0.070014   -0.070014   -0.09925833 -0.070014   -0.070014   -0.070014\n",
            "  -0.070014   -0.070014   -0.09925833 -0.09925833 -0.09925833 -0.070014\n",
            "  -0.070014   -0.09925833 -0.070014   -0.070014   -0.070014    0.32879797\n",
            "  -0.46929532  1.13038833 -0.20151709  1.38873015 -0.93847426 -0.372678\n",
            "  -1.18817705  1.30283093 -0.12186667 -0.070014   -0.24935149 -1.61136316\n",
            "  -0.28097574  3.84307569 -0.14106912 -0.23811978 -1.85917233  2.74620951\n",
            "  -0.070014   -0.070014   -0.14106912 -0.68907194 -0.12186667 -0.32879797\n",
            "  -0.070014    1.08666971 -0.21428571 -0.070014  ]\n",
            " [-1.67292751  0.93848971  0.17369775  0.2072559   0.13654199  0.23594216\n",
            "  -0.42079745 -0.43107572 -0.51726592  0.46218332 -0.03597283 -0.05366798\n",
            "   0.78785546 -0.18686504 -0.10935377 -0.070014   -0.070014   -0.070014\n",
            "  14.28285686 -0.09925833 -0.070014   -0.070014   -0.070014   -0.070014\n",
            "  -0.09925833 -0.070014   -0.09925833 -0.070014   -0.070014   -0.070014\n",
            "  -0.070014   -0.070014   -0.070014   -0.070014   -0.070014   -0.070014\n",
            "  -0.070014   -0.070014   -0.070014   -0.070014   -0.070014   -0.070014\n",
            "  -0.070014   -0.070014   -0.070014   -0.070014   -0.070014   -0.070014\n",
            "  -0.070014   -0.070014   -0.09925833 -0.070014   -0.070014   -0.12186667\n",
            "  -0.070014   -0.070014   -0.070014   -0.09925833 -0.070014   -0.09925833\n",
            "  -0.070014   -0.070014   -0.070014   -0.070014   -0.070014   -0.070014\n",
            "  -0.070014   -0.12186667 -0.09925833 -0.070014   -0.070014   -0.070014\n",
            "  -0.09925833 -0.09925833 -0.09925833 -0.070014   -0.070014   -0.12186667\n",
            "  -0.070014   -0.070014   -0.12186667 -0.070014   -0.12186667 -0.070014\n",
            "  -0.09925833 -0.070014   -0.070014   -0.070014   -0.070014   -0.070014\n",
            "  -0.09925833 -0.070014   -0.070014   -0.070014   -0.070014   -0.09925833\n",
            "  -0.070014   -0.070014   -0.070014   -0.17363972 -0.070014   -0.070014\n",
            "  -0.09925833 -0.070014   -0.070014   -0.070014   -0.09925833 -0.070014\n",
            "  -0.070014   -0.070014   -0.070014   -0.09925833 -0.070014   -0.070014\n",
            "  -0.070014   -0.09925833 -0.09925833 -0.09925833 -0.09925833 -0.070014\n",
            "  -0.070014   -0.14106912 -0.070014   -0.070014   -0.070014   -0.070014\n",
            "  -0.070014   -0.070014   -0.070014   -0.17363972 -0.09925833 -0.070014\n",
            "  -0.09925833 -0.070014   -0.17363972 -0.070014   -0.070014   -0.070014\n",
            "  -0.070014   -0.12186667 -0.09925833 -0.070014   -0.070014   -0.070014\n",
            "  -0.070014   -0.070014   -0.09925833 -0.070014   -0.070014   -0.070014\n",
            "  -0.070014   -0.070014   -0.09925833 -0.09925833 -0.09925833 -0.070014\n",
            "  -0.070014   -0.09925833 -0.070014   -0.070014   -0.070014    0.32879797\n",
            "  -0.46929532 -0.88465174 -0.20151709 -0.7200823   1.06555932 -0.372678\n",
            "   0.84162541 -0.76755931 -0.12186667 -0.070014   -0.24935149  0.62059257\n",
            "  -0.28097574 -0.26020825 -0.14106912 -0.23811978  0.53787375 -0.36413828\n",
            "  -0.070014   -0.070014   -0.14106912 -0.68907194 -0.12186667 -0.32879797\n",
            "  -0.070014    1.08666971 -0.21428571 -0.070014  ]\n",
            " [-1.65602926  0.93848971  0.10710955  0.2072559   0.23000146  0.23594216\n",
            "   0.51680718  0.21888454 -0.51726592  0.46218332 -0.54072499  0.27588312\n",
            "   0.78785546 -1.10624102 -1.27390036 -0.070014   -0.070014   -0.070014\n",
            "  -0.070014   10.07472084 -0.070014   -0.070014   -0.070014   -0.070014\n",
            "  -0.09925833 -0.070014   -0.09925833 -0.070014   -0.070014   -0.070014\n",
            "  -0.070014   -0.070014   -0.070014   -0.070014   -0.070014   -0.070014\n",
            "  -0.070014   -0.070014   -0.070014   -0.070014   -0.070014   -0.070014\n",
            "  -0.070014   -0.070014   -0.070014   -0.070014   -0.070014   -0.070014\n",
            "  -0.070014   -0.070014   -0.09925833 -0.070014   -0.070014   -0.12186667\n",
            "  -0.070014   -0.070014   -0.070014   -0.09925833 -0.070014   -0.09925833\n",
            "  -0.070014   -0.070014   -0.070014   -0.070014   -0.070014   -0.070014\n",
            "  -0.070014   -0.12186667 -0.09925833 -0.070014   -0.070014   -0.070014\n",
            "  -0.09925833 -0.09925833 -0.09925833 -0.070014   -0.070014   -0.12186667\n",
            "  -0.070014   -0.070014   -0.12186667 -0.070014   -0.12186667 -0.070014\n",
            "  -0.09925833 -0.070014   -0.070014   -0.070014   -0.070014   -0.070014\n",
            "  -0.09925833 -0.070014   -0.070014   -0.070014   -0.070014   -0.09925833\n",
            "  -0.070014   -0.070014   -0.070014   -0.17363972 -0.070014   -0.070014\n",
            "  -0.09925833 -0.070014   -0.070014   -0.070014   -0.09925833 -0.070014\n",
            "  -0.070014   -0.070014   -0.070014   -0.09925833 -0.070014   -0.070014\n",
            "  -0.070014   -0.09925833 -0.09925833 -0.09925833 -0.09925833 -0.070014\n",
            "  -0.070014   -0.14106912 -0.070014   -0.070014   -0.070014   -0.070014\n",
            "  -0.070014   -0.070014   -0.070014   -0.17363972 -0.09925833 -0.070014\n",
            "  -0.09925833 -0.070014   -0.17363972 -0.070014   -0.070014   -0.070014\n",
            "  -0.070014   -0.12186667 -0.09925833 -0.070014   -0.070014   -0.070014\n",
            "  -0.070014   -0.070014   -0.09925833 -0.070014   -0.070014   -0.070014\n",
            "  -0.070014   -0.070014   -0.09925833 -0.09925833 -0.09925833 -0.070014\n",
            "  -0.070014   -0.09925833 -0.070014   -0.070014   -0.070014    0.32879797\n",
            "  -0.46929532 -0.88465174 -0.20151709 -0.7200823   1.06555932 -0.372678\n",
            "  -1.18817705 -0.76755931 -0.12186667 -0.070014   -0.24935149  0.62059257\n",
            "  -0.28097574 -0.26020825 -0.14106912  4.19956708 -1.85917233 -0.36413828\n",
            "  -0.070014   -0.070014   -0.14106912 -0.68907194 -0.12186667 -0.32879797\n",
            "  -0.070014    1.08666971 -0.21428571 -0.070014  ]]\n"
          ]
        }
      ]
    },
    {
      "cell_type": "code",
      "source": [
        "from sklearn.model_selection import train_test_split\n",
        "\n",
        "X_train, X_test, y_train, y_test = train_test_split(X_scaled, y, test_size=0.2, random_state=42)\n",
        "\n",
        "print(\"Shape of X_train:\", X_train.shape)\n",
        "print(\"Shape of X_test:\", X_test.shape)\n",
        "print(\"Shape of y_train:\", y_train.shape)\n",
        "print(\"Shape of y_test:\", y_test.shape)\n"
      ],
      "metadata": {
        "colab": {
          "base_uri": "https://localhost:8080/"
        },
        "id": "0LH4OBS8FKGw",
        "outputId": "712492e0-4ad9-4d4b-813f-347da46fc2f2"
      },
      "execution_count": null,
      "outputs": [
        {
          "output_type": "stream",
          "name": "stdout",
          "text": [
            "Shape of X_train: (164, 190)\n",
            "Shape of X_test: (41, 190)\n",
            "Shape of y_train: (164,)\n",
            "Shape of y_test: (41,)\n"
          ]
        }
      ]
    },
    {
      "cell_type": "code",
      "source": [
        "from sklearn.linear_model import LinearRegression\n",
        "\n",
        "model = LinearRegression()\n",
        "model.fit(X_train, y_train)\n",
        "\n",
        "print(\"Model trained successfully.\")\n"
      ],
      "metadata": {
        "colab": {
          "base_uri": "https://localhost:8080/"
        },
        "id": "j74SduayFRqt",
        "outputId": "fcc3c535-cc0c-4ad8-b12a-658ca55bb196"
      },
      "execution_count": null,
      "outputs": [
        {
          "output_type": "stream",
          "name": "stdout",
          "text": [
            "Model trained successfully.\n"
          ]
        }
      ]
    },
    {
      "cell_type": "code",
      "source": [
        "y_pred = model.predict(X_test)\n",
        "\n",
        "print(\"First few predictions:\")\n",
        "print(y_pred[:5])\n"
      ],
      "metadata": {
        "colab": {
          "base_uri": "https://localhost:8080/"
        },
        "id": "ctymI0lTFWFa",
        "outputId": "fd11f399-dbc1-4415-f528-4efc6b0b5a2f"
      },
      "execution_count": null,
      "outputs": [
        {
          "output_type": "stream",
          "name": "stdout",
          "text": [
            "First few predictions:\n",
            "[-8.29839460e+16 -2.36786700e+17  4.76818694e+16  9.74700000e+03\n",
            " -6.05296729e+16]\n"
          ]
        }
      ]
    },
    {
      "cell_type": "code",
      "source": [
        "from sklearn.metrics import mean_squared_error, r2_score\n",
        "\n",
        "mse = mean_squared_error(y_test, y_pred)\n",
        "r2 = r2_score(y_test, y_pred)\n",
        "\n",
        "print(\"Mean Squared Error:\", mse)\n",
        "print(\"R^2 Score:\", r2)\n"
      ],
      "metadata": {
        "colab": {
          "base_uri": "https://localhost:8080/"
        },
        "id": "a5jUvAnAFZZ1",
        "outputId": "27c11508-68b3-48a9-80cd-8f4b763de401"
      },
      "execution_count": null,
      "outputs": [
        {
          "output_type": "stream",
          "name": "stdout",
          "text": [
            "Mean Squared Error: 1.652643426107536e+34\n",
            "R^2 Score: -2.0934371060562355e+26\n"
          ]
        }
      ]
    },
    {
      "cell_type": "code",
      "source": [
        "print(\"Feature columns:\", X.columns)\n"
      ],
      "metadata": {
        "colab": {
          "base_uri": "https://localhost:8080/"
        },
        "id": "q6WmZQBUGckf",
        "outputId": "73dfc78e-c593-4fe4-8022-8aeda781a022"
      },
      "execution_count": null,
      "outputs": [
        {
          "output_type": "stream",
          "name": "stdout",
          "text": [
            "Feature columns: Index(['car_ID', 'symboling', 'wheelbase', 'carlength', 'carwidth',\n",
            "       'carheight', 'curbweight', 'enginesize', 'boreratio', 'stroke',\n",
            "       ...\n",
            "       'cylindernumber_three', 'cylindernumber_twelve', 'cylindernumber_two',\n",
            "       'fuelsystem_2bbl', 'fuelsystem_4bbl', 'fuelsystem_idi',\n",
            "       'fuelsystem_mfi', 'fuelsystem_mpfi', 'fuelsystem_spdi',\n",
            "       'fuelsystem_spfi'],\n",
            "      dtype='object', length=190)\n"
          ]
        }
      ]
    },
    {
      "cell_type": "code",
      "source": [
        "# Example random values\n",
        "random_values = pd.DataFrame({\n",
        "    'wheelbase': [2500],\n",
        "    'carlength': [4500],\n",
        "    'carwidth': [1800],\n",
        "    'carheight': [1400],\n",
        "    'curbweight': [3000],\n",
        "    'enginesize': [160],\n",
        "    'boreratio': [3.1],\n",
        "    'stroke': [3.2],\n",
        "    'compressionratio': [10.0],\n",
        "    'horsepower': [120],\n",
        "    'peakrpm': [5500],\n",
        "    'citympg': [25],\n",
        "    'highwaympg': [35]\n",
        "})\n",
        "\n",
        "# Encode and scale\n",
        "random_values_encoded = pd.get_dummies(random_values, drop_first=True)\n",
        "random_values_encoded = random_values_encoded.reindex(columns=X.columns, fill_value=0)\n",
        "random_values_scaled = scaler.transform(random_values_encoded)\n",
        "predicted_price = model.predict(random_values_scaled)\n",
        "\n",
        "print(\"Predicted Price:\", predicted_price)\n"
      ],
      "metadata": {
        "colab": {
          "base_uri": "https://localhost:8080/"
        },
        "id": "MNNQURzYJMiM",
        "outputId": "5166d6df-2987-49b1-89a4-a5b86421079f"
      },
      "execution_count": null,
      "outputs": [
        {
          "output_type": "stream",
          "name": "stdout",
          "text": [
            "Predicted Price: [7.87052857e+15]\n"
          ]
        }
      ]
    }
  ]
}